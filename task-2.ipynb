{
 "cells": [
  {
   "cell_type": "code",
   "execution_count": 5,
   "id": "1a4a2680",
   "metadata": {},
   "outputs": [],
   "source": [
    "import pandas as pd\n",
    "df = pd.read_csv('movie_success_rate.csv')"
   ]
  },
  {
   "cell_type": "code",
   "execution_count": 7,
   "id": "69d5fd46",
   "metadata": {},
   "outputs": [
    {
     "data": {
      "text/plain": [
       "(839, 33)"
      ]
     },
     "execution_count": 7,
     "metadata": {},
     "output_type": "execute_result"
    }
   ],
   "source": [
    "df.shape"
   ]
  },
  {
   "cell_type": "code",
   "execution_count": 8,
   "id": "237ff8ee",
   "metadata": {},
   "outputs": [
    {
     "data": {
      "text/html": [
       "<div>\n",
       "<style scoped>\n",
       "    .dataframe tbody tr th:only-of-type {\n",
       "        vertical-align: middle;\n",
       "    }\n",
       "\n",
       "    .dataframe tbody tr th {\n",
       "        vertical-align: top;\n",
       "    }\n",
       "\n",
       "    .dataframe thead th {\n",
       "        text-align: right;\n",
       "    }\n",
       "</style>\n",
       "<table border=\"1\" class=\"dataframe\">\n",
       "  <thead>\n",
       "    <tr style=\"text-align: right;\">\n",
       "      <th></th>\n",
       "      <th>Rank</th>\n",
       "      <th>Title</th>\n",
       "      <th>Genre</th>\n",
       "      <th>Description</th>\n",
       "      <th>Director</th>\n",
       "      <th>Actors</th>\n",
       "      <th>Year</th>\n",
       "      <th>Runtime (Minutes)</th>\n",
       "      <th>Rating</th>\n",
       "      <th>Votes</th>\n",
       "      <th>...</th>\n",
       "      <th>Music</th>\n",
       "      <th>Musical</th>\n",
       "      <th>Mystery</th>\n",
       "      <th>Romance</th>\n",
       "      <th>Sci-Fi</th>\n",
       "      <th>Sport</th>\n",
       "      <th>Thriller</th>\n",
       "      <th>War</th>\n",
       "      <th>Western</th>\n",
       "      <th>Success</th>\n",
       "    </tr>\n",
       "  </thead>\n",
       "  <tbody>\n",
       "    <tr>\n",
       "      <th>0</th>\n",
       "      <td>1.0</td>\n",
       "      <td>Guardians of the Galaxy</td>\n",
       "      <td>Action,Adventure,Sci-Fi</td>\n",
       "      <td>A group of intergalactic criminals are forced ...</td>\n",
       "      <td>James Gunn</td>\n",
       "      <td>Chris Pratt, Vin Diesel, Bradley Cooper, Zoe S...</td>\n",
       "      <td>2014.0</td>\n",
       "      <td>121.0</td>\n",
       "      <td>8.1</td>\n",
       "      <td>757074.0</td>\n",
       "      <td>...</td>\n",
       "      <td>0.0</td>\n",
       "      <td>0.0</td>\n",
       "      <td>0.0</td>\n",
       "      <td>0.0</td>\n",
       "      <td>1.0</td>\n",
       "      <td>0.0</td>\n",
       "      <td>0.0</td>\n",
       "      <td>0.0</td>\n",
       "      <td>0.0</td>\n",
       "      <td>1.0</td>\n",
       "    </tr>\n",
       "    <tr>\n",
       "      <th>1</th>\n",
       "      <td>2.0</td>\n",
       "      <td>Prometheus</td>\n",
       "      <td>Adventure,Mystery,Sci-Fi</td>\n",
       "      <td>Following clues to the origin of mankind, a te...</td>\n",
       "      <td>Ridley Scott</td>\n",
       "      <td>Noomi Rapace, Logan Marshall-Green, Michael Fa...</td>\n",
       "      <td>2012.0</td>\n",
       "      <td>124.0</td>\n",
       "      <td>7.0</td>\n",
       "      <td>485820.0</td>\n",
       "      <td>...</td>\n",
       "      <td>0.0</td>\n",
       "      <td>0.0</td>\n",
       "      <td>1.0</td>\n",
       "      <td>0.0</td>\n",
       "      <td>1.0</td>\n",
       "      <td>0.0</td>\n",
       "      <td>0.0</td>\n",
       "      <td>0.0</td>\n",
       "      <td>0.0</td>\n",
       "      <td>1.0</td>\n",
       "    </tr>\n",
       "    <tr>\n",
       "      <th>2</th>\n",
       "      <td>3.0</td>\n",
       "      <td>Split</td>\n",
       "      <td>Horror,Thriller</td>\n",
       "      <td>Three girls are kidnapped by a man with a diag...</td>\n",
       "      <td>M. Night Shyamalan</td>\n",
       "      <td>James McAvoy, Anya Taylor-Joy, Haley Lu Richar...</td>\n",
       "      <td>2016.0</td>\n",
       "      <td>117.0</td>\n",
       "      <td>7.3</td>\n",
       "      <td>157606.0</td>\n",
       "      <td>...</td>\n",
       "      <td>0.0</td>\n",
       "      <td>0.0</td>\n",
       "      <td>0.0</td>\n",
       "      <td>0.0</td>\n",
       "      <td>0.0</td>\n",
       "      <td>0.0</td>\n",
       "      <td>1.0</td>\n",
       "      <td>0.0</td>\n",
       "      <td>0.0</td>\n",
       "      <td>0.0</td>\n",
       "    </tr>\n",
       "    <tr>\n",
       "      <th>3</th>\n",
       "      <td>4.0</td>\n",
       "      <td>Sing</td>\n",
       "      <td>Animation,Comedy,Family</td>\n",
       "      <td>In a city of humanoid animals, a hustling thea...</td>\n",
       "      <td>Christophe Lourdelet</td>\n",
       "      <td>Matthew McConaughey,Reese Witherspoon, Seth Ma...</td>\n",
       "      <td>2016.0</td>\n",
       "      <td>108.0</td>\n",
       "      <td>7.2</td>\n",
       "      <td>60545.0</td>\n",
       "      <td>...</td>\n",
       "      <td>0.0</td>\n",
       "      <td>0.0</td>\n",
       "      <td>0.0</td>\n",
       "      <td>0.0</td>\n",
       "      <td>0.0</td>\n",
       "      <td>0.0</td>\n",
       "      <td>0.0</td>\n",
       "      <td>0.0</td>\n",
       "      <td>0.0</td>\n",
       "      <td>0.0</td>\n",
       "    </tr>\n",
       "    <tr>\n",
       "      <th>4</th>\n",
       "      <td>5.0</td>\n",
       "      <td>Suicide Squad</td>\n",
       "      <td>Action,Adventure,Fantasy</td>\n",
       "      <td>A secret government agency recruits some of th...</td>\n",
       "      <td>David Ayer</td>\n",
       "      <td>Will Smith, Jared Leto, Margot Robbie, Viola D...</td>\n",
       "      <td>2016.0</td>\n",
       "      <td>123.0</td>\n",
       "      <td>6.2</td>\n",
       "      <td>393727.0</td>\n",
       "      <td>...</td>\n",
       "      <td>0.0</td>\n",
       "      <td>0.0</td>\n",
       "      <td>0.0</td>\n",
       "      <td>0.0</td>\n",
       "      <td>0.0</td>\n",
       "      <td>0.0</td>\n",
       "      <td>0.0</td>\n",
       "      <td>0.0</td>\n",
       "      <td>0.0</td>\n",
       "      <td>0.0</td>\n",
       "    </tr>\n",
       "  </tbody>\n",
       "</table>\n",
       "<p>5 rows × 33 columns</p>\n",
       "</div>"
      ],
      "text/plain": [
       "   Rank                    Title                     Genre  \\\n",
       "0   1.0  Guardians of the Galaxy   Action,Adventure,Sci-Fi   \n",
       "1   2.0               Prometheus  Adventure,Mystery,Sci-Fi   \n",
       "2   3.0                    Split           Horror,Thriller   \n",
       "3   4.0                     Sing   Animation,Comedy,Family   \n",
       "4   5.0            Suicide Squad  Action,Adventure,Fantasy   \n",
       "\n",
       "                                         Description              Director  \\\n",
       "0  A group of intergalactic criminals are forced ...            James Gunn   \n",
       "1  Following clues to the origin of mankind, a te...          Ridley Scott   \n",
       "2  Three girls are kidnapped by a man with a diag...    M. Night Shyamalan   \n",
       "3  In a city of humanoid animals, a hustling thea...  Christophe Lourdelet   \n",
       "4  A secret government agency recruits some of th...            David Ayer   \n",
       "\n",
       "                                              Actors    Year  \\\n",
       "0  Chris Pratt, Vin Diesel, Bradley Cooper, Zoe S...  2014.0   \n",
       "1  Noomi Rapace, Logan Marshall-Green, Michael Fa...  2012.0   \n",
       "2  James McAvoy, Anya Taylor-Joy, Haley Lu Richar...  2016.0   \n",
       "3  Matthew McConaughey,Reese Witherspoon, Seth Ma...  2016.0   \n",
       "4  Will Smith, Jared Leto, Margot Robbie, Viola D...  2016.0   \n",
       "\n",
       "   Runtime (Minutes)  Rating     Votes  ...  Music  Musical  Mystery  Romance  \\\n",
       "0              121.0     8.1  757074.0  ...    0.0      0.0      0.0      0.0   \n",
       "1              124.0     7.0  485820.0  ...    0.0      0.0      1.0      0.0   \n",
       "2              117.0     7.3  157606.0  ...    0.0      0.0      0.0      0.0   \n",
       "3              108.0     7.2   60545.0  ...    0.0      0.0      0.0      0.0   \n",
       "4              123.0     6.2  393727.0  ...    0.0      0.0      0.0      0.0   \n",
       "\n",
       "   Sci-Fi  Sport  Thriller  War  Western  Success  \n",
       "0     1.0    0.0       0.0  0.0      0.0      1.0  \n",
       "1     1.0    0.0       0.0  0.0      0.0      1.0  \n",
       "2     0.0    0.0       1.0  0.0      0.0      0.0  \n",
       "3     0.0    0.0       0.0  0.0      0.0      0.0  \n",
       "4     0.0    0.0       0.0  0.0      0.0      0.0  \n",
       "\n",
       "[5 rows x 33 columns]"
      ]
     },
     "execution_count": 8,
     "metadata": {},
     "output_type": "execute_result"
    }
   ],
   "source": [
    "df.head()"
   ]
  },
  {
   "cell_type": "code",
   "execution_count": 9,
   "id": "eecfccbf",
   "metadata": {},
   "outputs": [
    {
     "data": {
      "text/plain": [
       "Index(['Rank', 'Title', 'Genre', 'Description', 'Director', 'Actors', 'Year',\n",
       "       'Runtime (Minutes)', 'Rating', 'Votes', 'Revenue (Millions)',\n",
       "       'Metascore', 'Action', 'Adventure', 'Aniimation', 'Biography', 'Comedy',\n",
       "       'Crime', 'Drama', 'Family', 'Fantasy', 'History', 'Horror', 'Music',\n",
       "       'Musical', 'Mystery', 'Romance', 'Sci-Fi', 'Sport', 'Thriller', 'War',\n",
       "       'Western', 'Success'],\n",
       "      dtype='object')"
      ]
     },
     "execution_count": 9,
     "metadata": {},
     "output_type": "execute_result"
    }
   ],
   "source": [
    "df.columns\n"
   ]
  },
  {
   "cell_type": "code",
   "execution_count": 10,
   "id": "1423b411",
   "metadata": {},
   "outputs": [
    {
     "data": {
      "text/plain": [
       "Genre\n",
       "Action,Adventure,Sci-Fi    50\n",
       "Comedy,Drama,Romance       30\n",
       "Drama                      29\n",
       "Drama,Romance              27\n",
       "Comedy                     26\n",
       "                           ..\n",
       "Adventure,Drama,History     1\n",
       "Action,Crime,Fantasy        1\n",
       "Comedy,Mystery              1\n",
       "Adventure,Comedy,Horror     1\n",
       "Comedy,Family,Fantasy       1\n",
       "Name: count, Length: 189, dtype: int64"
      ]
     },
     "execution_count": 10,
     "metadata": {},
     "output_type": "execute_result"
    }
   ],
   "source": [
    "df['Genre'].value_counts()"
   ]
  },
  {
   "cell_type": "code",
   "execution_count": 11,
   "id": "56e1e12e",
   "metadata": {},
   "outputs": [
    {
     "data": {
      "text/plain": [
       "Director\n",
       "Ridley Scott          8\n",
       "Paul W.S. Anderson    6\n",
       "David Yates           6\n",
       "Michael Bay           6\n",
       "Antoine Fuqua         5\n",
       "                     ..\n",
       "Kyle Balda            1\n",
       "Chris Renaud          1\n",
       "Peter Billingsley     1\n",
       "Lee Toland Krieger    1\n",
       "Nima Nourizadeh       1\n",
       "Name: count, Length: 524, dtype: int64"
      ]
     },
     "execution_count": 11,
     "metadata": {},
     "output_type": "execute_result"
    }
   ],
   "source": [
    "df['Director'].value_counts()"
   ]
  },
  {
   "cell_type": "code",
   "execution_count": 12,
   "id": "08d30eed",
   "metadata": {},
   "outputs": [
    {
     "data": {
      "text/plain": [
       "Actors\n",
       "Jennifer Lawrence, Josh Hutcherson, Liam Hemsworth, Woody Harrelson    2\n",
       "Daniel Radcliffe, Emma Watson, Rupert Grint, Michael Gambon            2\n",
       "Shia LaBeouf, Megan Fox, Josh Duhamel, Tyrese Gibson                   2\n",
       "Gerard Butler, Aaron Eckhart, Morgan Freeman,Angela Bassett            2\n",
       "Chris Pratt, Vin Diesel, Bradley Cooper, Zoe Saldana                   1\n",
       "                                                                      ..\n",
       "Chris Evans, Jamie Bell, Tilda Swinton, Ed Harris                      1\n",
       "Chloë Grace Moretz, Matthew Zuk, Gabriela Lopez,Bailey Anne Borders    1\n",
       "Olivia DeJonge, Ed Oxenbould, Deanna Dunagan, Peter McRobbie           1\n",
       "Vin Diesel, Paul Walker, Dwayne Johnson, Jordana Brewster              1\n",
       "Kevin Spacey, Jennifer Garner, Robbie Amell,Cheryl Hines               1\n",
       "Name: count, Length: 834, dtype: int64"
      ]
     },
     "execution_count": 12,
     "metadata": {},
     "output_type": "execute_result"
    }
   ],
   "source": [
    "df['Actors'].value_counts()"
   ]
  },
  {
   "cell_type": "code",
   "execution_count": 13,
   "id": "c1ebfbe7",
   "metadata": {},
   "outputs": [
    {
     "data": {
      "text/plain": [
       "<Axes: >"
      ]
     },
     "execution_count": 13,
     "metadata": {},
     "output_type": "execute_result"
    },
    {
     "data": {
      "image/png": "[encoded data removed]",
      "text/plain": [
       "<Figure size 640x480 with 2 Axes>"
      ]
     },
     "metadata": {},
     "output_type": "display_data"
    }
   ],
   "source": [
    "import seaborn as sns\n",
    "sns.heatmap(df.isnull())"
   ]
  },
  {
   "cell_type": "code",
   "execution_count": 18,
   "id": "a0194885",
   "metadata": {},
   "outputs": [
    {
     "data": {
      "text/plain": [
       "Index(['Rank', 'Title', 'Genre', 'Description', 'Director', 'Actors', 'Year',\n",
       "       'Runtime (Minutes)', 'Rating', 'Votes', 'Revenue (Millions)',\n",
       "       'Metascore', 'Action', 'Adventure', 'Aniimation', 'Biography', 'Comedy',\n",
       "       'Crime', 'Drama', 'Family', 'Fantasy', 'History', 'Horror', 'Music',\n",
       "       'Musical', 'Mystery', 'Romance', 'Sci-Fi', 'Sport', 'Thriller', 'War',\n",
       "       'Western', 'Success'],\n",
       "      dtype='object')"
      ]
     },
     "execution_count": 18,
     "metadata": {},
     "output_type": "execute_result"
    }
   ],
   "source": [
    "df.columns"
   ]
  },
  {
   "cell_type": "code",
   "execution_count": 25,
   "id": "0cb5b68b",
   "metadata": {},
   "outputs": [],
   "source": [
    "x = df[['Year',\n",
    "       'Runtime (Minutes)', 'Rating', 'Votes', 'Revenue (Millions)',\n",
    "       'Metascore', 'Action', 'Adventure', 'Aniimation', 'Biography', 'Comedy',\n",
    "       'Crime', 'Drama', 'Family', 'Fantasy', 'History', 'Horror', 'Music',\n",
    "       'Musical', 'Mystery', 'Romance', 'Sci-Fi', 'Sport', 'Thriller', 'War',\n",
    "       'Western']]\n",
    "y = df['Success']"
   ]
  },
  {
   "cell_type": "code",
   "execution_count": null,
   "id": "64554fef",
   "metadata": {},
   "outputs": [],
   "source": []
  }
 ],
 "metadata": {
  "kernelspec": {
   "display_name": "Python 3 (ipykernel)",
   "language": "python",
   "name": "python3"
  },
  "language_info": {
   "codemirror_mode": {
    "name": "ipython",
    "version": 3
   },
   "file_extension": ".py",
   "mimetype": "text/x-python",
   "name": "python",
   "nbconvert_exporter": "python",
   "pygments_lexer": "ipython3",
   "version": "3.11.4"
  }
 },
 "nbformat": 4,
 "nbformat_minor": 5
}
